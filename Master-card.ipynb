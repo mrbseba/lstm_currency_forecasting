{
 "cells": [
  {
   "cell_type": "code",
   "execution_count": 1,
   "id": "51bd684a",
   "metadata": {},
   "outputs": [],
   "source": [
    "# Importam bibliotecile necesare\n",
    "import numpy as np\n",
    "import pandas as pd\n",
    "import matplotlib.pyplot as plt\n",
    "from sklearn.preprocessing import MinMaxScaler\n",
    "from sklearn.metrics import mean_squared_error\n",
    "\n",
    "from tensorflow.keras.models import Sequential\n",
    "from tensorflow.keras.layers import Dense, LSTM, Dropout,GRU, Bidirectional\n",
    "from tensorflow.keras.optimizers import SGD"
   ]
  },
  {
   "cell_type": "code",
   "execution_count": 2,
   "id": "afb1defb",
   "metadata": {},
   "outputs": [
    {
     "name": "stdout",
     "output_type": "stream",
     "text": [
      "                Open      High       Low     Close     Volume\n",
      "Date                                                         \n",
      "2006-05-25  3.748967  4.283869  3.739664  4.279217  395343000\n",
      "2006-05-26  4.307126  4.348058  4.103398  4.179680  103044000\n",
      "2006-05-30  4.183400  4.184330  3.986184  4.093164   49898000\n",
      "2006-05-31  4.125723  4.219679  4.125723  4.180608   30002000\n",
      "2006-06-01  4.179678  4.474572  4.176887  4.419686   62344000\n"
     ]
    }
   ],
   "source": [
    "dataset = pd.read_csv(\"master_stock.csv\", index_col=\"Date\",parse_dates=[\"Date\"]).drop([\"Dividends\", \"Stock Splits\"], axis=1)\n",
    "print(dataset.head())"
   ]
  },
  {
   "cell_type": "code",
   "execution_count": 3,
   "id": "1611c673",
   "metadata": {},
   "outputs": [
    {
     "data": {
      "text/html": [
       "<div>\n",
       "<style scoped>\n",
       "    .dataframe tbody tr th:only-of-type {\n",
       "        vertical-align: middle;\n",
       "    }\n",
       "\n",
       "    .dataframe tbody tr th {\n",
       "        vertical-align: top;\n",
       "    }\n",
       "\n",
       "    .dataframe thead th {\n",
       "        text-align: right;\n",
       "    }\n",
       "</style>\n",
       "<table border=\"1\" class=\"dataframe\">\n",
       "  <thead>\n",
       "    <tr style=\"text-align: right;\">\n",
       "      <th></th>\n",
       "      <th>Open</th>\n",
       "      <th>High</th>\n",
       "      <th>Low</th>\n",
       "      <th>Close</th>\n",
       "      <th>Volume</th>\n",
       "    </tr>\n",
       "  </thead>\n",
       "  <tbody>\n",
       "    <tr>\n",
       "      <th>count</th>\n",
       "      <td>3872.000000</td>\n",
       "      <td>3872.000000</td>\n",
       "      <td>3872.000000</td>\n",
       "      <td>3872.000000</td>\n",
       "      <td>3.872000e+03</td>\n",
       "    </tr>\n",
       "    <tr>\n",
       "      <th>mean</th>\n",
       "      <td>104.896814</td>\n",
       "      <td>105.956054</td>\n",
       "      <td>103.769349</td>\n",
       "      <td>104.882714</td>\n",
       "      <td>1.232250e+07</td>\n",
       "    </tr>\n",
       "    <tr>\n",
       "      <th>std</th>\n",
       "      <td>106.245511</td>\n",
       "      <td>107.303589</td>\n",
       "      <td>105.050064</td>\n",
       "      <td>106.168693</td>\n",
       "      <td>1.759665e+07</td>\n",
       "    </tr>\n",
       "    <tr>\n",
       "      <th>min</th>\n",
       "      <td>3.748967</td>\n",
       "      <td>4.102467</td>\n",
       "      <td>3.739664</td>\n",
       "      <td>4.083861</td>\n",
       "      <td>6.411000e+05</td>\n",
       "    </tr>\n",
       "    <tr>\n",
       "      <th>25%</th>\n",
       "      <td>22.347203</td>\n",
       "      <td>22.637997</td>\n",
       "      <td>22.034458</td>\n",
       "      <td>22.300391</td>\n",
       "      <td>3.529475e+06</td>\n",
       "    </tr>\n",
       "    <tr>\n",
       "      <th>50%</th>\n",
       "      <td>70.810079</td>\n",
       "      <td>71.375896</td>\n",
       "      <td>70.224002</td>\n",
       "      <td>70.856083</td>\n",
       "      <td>5.891750e+06</td>\n",
       "    </tr>\n",
       "    <tr>\n",
       "      <th>75%</th>\n",
       "      <td>147.688448</td>\n",
       "      <td>148.645373</td>\n",
       "      <td>146.822013</td>\n",
       "      <td>147.688438</td>\n",
       "      <td>1.319775e+07</td>\n",
       "    </tr>\n",
       "    <tr>\n",
       "      <th>max</th>\n",
       "      <td>392.653890</td>\n",
       "      <td>400.521479</td>\n",
       "      <td>389.747812</td>\n",
       "      <td>394.685730</td>\n",
       "      <td>3.953430e+08</td>\n",
       "    </tr>\n",
       "  </tbody>\n",
       "</table>\n",
       "</div>"
      ],
      "text/plain": [
       "              Open         High          Low        Close        Volume\n",
       "count  3872.000000  3872.000000  3872.000000  3872.000000  3.872000e+03\n",
       "mean    104.896814   105.956054   103.769349   104.882714  1.232250e+07\n",
       "std     106.245511   107.303589   105.050064   106.168693  1.759665e+07\n",
       "min       3.748967     4.102467     3.739664     4.083861  6.411000e+05\n",
       "25%      22.347203    22.637997    22.034458    22.300391  3.529475e+06\n",
       "50%      70.810079    71.375896    70.224002    70.856083  5.891750e+06\n",
       "75%     147.688448   148.645373   146.822013   147.688438  1.319775e+07\n",
       "max     392.653890   400.521479   389.747812   394.685730  3.953430e+08"
      ]
     },
     "execution_count": 3,
     "metadata": {},
     "output_type": "execute_result"
    }
   ],
   "source": [
    "dataset.describe()"
   ]
  },
  {
   "cell_type": "code",
   "execution_count": 4,
   "id": "ee64c476",
   "metadata": {},
   "outputs": [],
   "source": [
    "def train_test_plot(dataset, tstart, tend):\n",
    "    dataset.loc[f\"{tstart}\":f\"{tend}\", \"High\"].plot(\n",
    "    figsize=(16, 4), legend=True)\n",
    "    dataset.loc[f\"{tend+1}\":, \"High\"].plot(\n",
    "    figsize=(16, 4), legend=True)\n",
    "    plt.legend([f\"Train (Before {tend+1})\",f\"Test ({tend+1} and beyond)\"])\n",
    "    plt.title(\"MasterCard stock price\")\n",
    "    plt.show()"
   ]
  },
  {
   "cell_type": "code",
   "execution_count": 5,
   "id": "5a871664",
   "metadata": {},
   "outputs": [
    {
     "data": {
      "image/png": "[encoded data removed]",
      "text/plain": [
       "<Figure size 1152x288 with 1 Axes>"
      ]
     },
     "metadata": {
      "needs_background": "light"
     },
     "output_type": "display_data"
    }
   ],
   "source": [
    "tstart = 2016\n",
    "tend = 2020\n",
    "train_test_plot(dataset,tstart,tend)"
   ]
  },
  {
   "cell_type": "code",
   "execution_count": 6,
   "id": "6b40805b",
   "metadata": {},
   "outputs": [],
   "source": [
    "def train_test_split(dataset, tstart, tend):\n",
    "    train = dataset.loc[f\"{tstart}\":f\"{tend}\",\"High\"].values\n",
    "    test = dataset.loc[f\"{tend+1}\":, \"High\"].values\n",
    "    return train, test"
   ]
  },
  {
   "cell_type": "code",
   "execution_count": 7,
   "id": "36523cc4",
   "metadata": {},
   "outputs": [],
   "source": [
    "training_set, test_set = train_test_split(dataset, tstart,tend)"
   ]
  },
  {
   "cell_type": "code",
   "execution_count": 8,
   "id": "fec85547",
   "metadata": {},
   "outputs": [],
   "source": [
    "sc = MinMaxScaler(feature_range=(0, 1))\n",
    "training_set = training_set.reshape(-1, 1)\n",
    "training_set_scaled = sc.fit_transform(training_set)"
   ]
  },
  {
   "cell_type": "code",
   "execution_count": 9,
   "id": "b1fcfa8b",
   "metadata": {},
   "outputs": [],
   "source": [
    "def split_sequence(sequence, n_steps):\n",
    "    X, y = list(), list()\n",
    "    for i in range(len(sequence)):\n",
    "        end_ix = i + n_steps\n",
    "        if end_ix > len(sequence) - 1:\n",
    "            break\n",
    "        seq_x, seq_y = sequence[i:end_ix], sequence[end_ix]\n",
    "        X.append(seq_x)\n",
    "        y.append(seq_y)\n",
    "    return np.array(X), np.array(y)"
   ]
  },
  {
   "cell_type": "code",
   "execution_count": 10,
   "id": "5bfb4eba",
   "metadata": {},
   "outputs": [],
   "source": [
    "n_steps = 60\n",
    "# divizăm in pasi\n",
    "X_train, y_train = split_sequence(training_set_scaled,n_steps)"
   ]
  },
  {
   "cell_type": "code",
   "execution_count": 11,
   "id": "4fa2d739",
   "metadata": {},
   "outputs": [
    {
     "data": {
      "text/plain": [
       "array([[[0.04611702],\n",
       "        [0.04692574],\n",
       "        [0.04271097],\n",
       "        ...,\n",
       "        [0.03565442],\n",
       "        [0.03815291],\n",
       "        [0.04196816]],\n",
       "\n",
       "       [[0.04692574],\n",
       "        [0.04271097],\n",
       "        [0.03589075],\n",
       "        ...,\n",
       "        [0.03815291],\n",
       "        [0.04196816],\n",
       "        [0.04456798]],\n",
       "\n",
       "       [[0.04271097],\n",
       "        [0.03589075],\n",
       "        [0.03545174],\n",
       "        ...,\n",
       "        [0.04196816],\n",
       "        [0.04456798],\n",
       "        [0.04851835]],\n",
       "\n",
       "       ...,\n",
       "\n",
       "       [[0.91439013],\n",
       "        [0.91661388],\n",
       "        [0.92741912],\n",
       "        ...,\n",
       "        [0.89003545],\n",
       "        [0.89407059],\n",
       "        [0.92614221]],\n",
       "\n",
       "       [[0.91661388],\n",
       "        [0.92741912],\n",
       "        [0.92147802],\n",
       "        ...,\n",
       "        [0.89407059],\n",
       "        [0.92614221],\n",
       "        [0.93713413]],\n",
       "\n",
       "       [[0.92741912],\n",
       "        [0.92147802],\n",
       "        [0.9334469 ],\n",
       "        ...,\n",
       "        [0.92614221],\n",
       "        [0.93713413],\n",
       "        [0.9686838 ]]])"
      ]
     },
     "execution_count": 11,
     "metadata": {},
     "output_type": "execute_result"
    }
   ],
   "source": [
    "# Remodelarea X_train pentru model\n",
    "features = 1\n",
    "X_train.reshape(X_train.shape[0],X_train.shape[1],features)"
   ]
  },
  {
   "cell_type": "code",
   "execution_count": 12,
   "id": "e69e1509",
   "metadata": {},
   "outputs": [],
   "source": [
    "# Arhitectura\n",
    "model_lstm = Sequential()\n",
    "model_lstm.add(LSTM(units=125, activation=\"tanh\", input_shape=(n_steps, features)))\n",
    "model_lstm.add(Dense(units=1))\n",
    "# Compilarea modelului\n",
    "model_lstm.compile(optimizer=\"RMSprop\", loss=\"mse\")"
   ]
  },
  {
   "cell_type": "code",
   "execution_count": 13,
   "id": "7624b310",
   "metadata": {},
   "outputs": [
    {
     "name": "stdout",
     "output_type": "stream",
     "text": [
      "Model: \"sequential\"\n",
      "_________________________________________________________________\n",
      " Layer (type)                Output Shape              Param #   \n",
      "=================================================================\n",
      " lstm (LSTM)                 (None, 125)               63500     \n",
      "                                                                 \n",
      " dense (Dense)               (None, 1)                 126       \n",
      "                                                                 \n",
      "=================================================================\n",
      "Total params: 63,626\n",
      "Trainable params: 63,626\n",
      "Non-trainable params: 0\n",
      "_________________________________________________________________\n"
     ]
    }
   ],
   "source": [
    "model_lstm.summary()"
   ]
  },
  {
   "cell_type": "code",
   "execution_count": 14,
   "id": "968485f8",
   "metadata": {},
   "outputs": [
    {
     "name": "stdout",
     "output_type": "stream",
     "text": [
      "Epoch 1/50\n",
      "38/38 [==============================] - 3s 32ms/step - loss: 0.0157\n",
      "Epoch 2/50\n",
      "38/38 [==============================] - 1s 36ms/step - loss: 0.0034\n",
      "Epoch 3/50\n",
      "38/38 [==============================] - 1s 36ms/step - loss: 0.0021\n",
      "Epoch 4/50\n",
      "38/38 [==============================] - 1s 33ms/step - loss: 0.0019\n",
      "Epoch 5/50\n",
      "38/38 [==============================] - 2s 42ms/step - loss: 0.0016\n",
      "Epoch 6/50\n",
      "38/38 [==============================] - 2s 51ms/step - loss: 0.0013\n",
      "Epoch 7/50\n",
      "38/38 [==============================] - 2s 46ms/step - loss: 0.0012\n",
      "Epoch 8/50\n",
      "38/38 [==============================] - 2s 45ms/step - loss: 9.2838e-04\n",
      "Epoch 9/50\n",
      "38/38 [==============================] - 2s 45ms/step - loss: 0.0011\n",
      "Epoch 10/50\n",
      "38/38 [==============================] - 2s 49ms/step - loss: 9.5054e-04\n",
      "Epoch 11/50\n",
      "38/38 [==============================] - 2s 40ms/step - loss: 8.8222e-04\n",
      "Epoch 12/50\n",
      "38/38 [==============================] - 2s 41ms/step - loss: 7.2505e-04\n",
      "Epoch 13/50\n",
      "38/38 [==============================] - 2s 55ms/step - loss: 7.4421e-04\n",
      "Epoch 14/50\n",
      "38/38 [==============================] - 2s 48ms/step - loss: 7.8241e-04\n",
      "Epoch 15/50\n",
      "38/38 [==============================] - 2s 48ms/step - loss: 7.1431e-04\n",
      "Epoch 16/50\n",
      "38/38 [==============================] - 2s 54ms/step - loss: 5.5922e-04\n",
      "Epoch 17/50\n",
      "38/38 [==============================] - 2s 54ms/step - loss: 6.9020e-04\n",
      "Epoch 18/50\n",
      "38/38 [==============================] - 2s 41ms/step - loss: 6.3422e-04\n",
      "Epoch 19/50\n",
      "38/38 [==============================] - 2s 49ms/step - loss: 5.1010e-04\n",
      "Epoch 20/50\n",
      "38/38 [==============================] - 2s 55ms/step - loss: 5.6816e-04\n",
      "Epoch 21/50\n",
      "38/38 [==============================] - 2s 45ms/step - loss: 5.6224e-04\n",
      "Epoch 22/50\n",
      "38/38 [==============================] - 2s 41ms/step - loss: 5.9160e-04\n",
      "Epoch 23/50\n",
      "38/38 [==============================] - 2s 52ms/step - loss: 5.2988e-04\n",
      "Epoch 24/50\n",
      "38/38 [==============================] - 2s 51ms/step - loss: 5.6304e-04\n",
      "Epoch 25/50\n",
      "38/38 [==============================] - 2s 41ms/step - loss: 4.8903e-04\n",
      "Epoch 26/50\n",
      "38/38 [==============================] - 2s 51ms/step - loss: 4.4816e-04\n",
      "Epoch 27/50\n",
      "38/38 [==============================] - 3s 68ms/step - loss: 5.1435e-04\n",
      "Epoch 28/50\n",
      "38/38 [==============================] - 2s 51ms/step - loss: 4.8737e-04\n",
      "Epoch 29/50\n",
      "38/38 [==============================] - 2s 48ms/step - loss: 5.3628e-04\n",
      "Epoch 30/50\n",
      "38/38 [==============================] - 2s 49ms/step - loss: 4.6597e-04\n",
      "Epoch 31/50\n",
      "38/38 [==============================] - 2s 49ms/step - loss: 4.2695e-04\n",
      "Epoch 32/50\n",
      "38/38 [==============================] - 2s 47ms/step - loss: 4.2546e-04\n",
      "Epoch 33/50\n",
      "38/38 [==============================] - 2s 56ms/step - loss: 4.4566e-04\n",
      "Epoch 34/50\n",
      "38/38 [==============================] - 2s 47ms/step - loss: 4.1940e-04\n",
      "Epoch 35/50\n",
      "38/38 [==============================] - 2s 44ms/step - loss: 4.5711e-04\n",
      "Epoch 36/50\n",
      "38/38 [==============================] - 2s 44ms/step - loss: 3.9553e-04\n",
      "Epoch 37/50\n",
      "38/38 [==============================] - 2s 49ms/step - loss: 4.3893e-04\n",
      "Epoch 38/50\n",
      "38/38 [==============================] - 2s 40ms/step - loss: 3.6177e-04\n",
      "Epoch 39/50\n",
      "38/38 [==============================] - 2s 47ms/step - loss: 3.9852e-04\n",
      "Epoch 40/50\n",
      "38/38 [==============================] - 2s 55ms/step - loss: 4.2892e-04\n",
      "Epoch 41/50\n",
      "38/38 [==============================] - 2s 42ms/step - loss: 4.5997e-04\n",
      "Epoch 42/50\n",
      "38/38 [==============================] - 2s 48ms/step - loss: 3.9084e-04\n",
      "Epoch 43/50\n",
      "38/38 [==============================] - 2s 52ms/step - loss: 3.8183e-04\n",
      "Epoch 44/50\n",
      "38/38 [==============================] - 2s 57ms/step - loss: 3.9189e-04\n",
      "Epoch 45/50\n",
      "38/38 [==============================] - 2s 50ms/step - loss: 3.9272e-04\n",
      "Epoch 46/50\n",
      "38/38 [==============================] - 2s 44ms/step - loss: 4.2675e-04\n",
      "Epoch 47/50\n",
      "38/38 [==============================] - 2s 56ms/step - loss: 3.1828e-04\n",
      "Epoch 48/50\n",
      "38/38 [==============================] - 2s 47ms/step - loss: 4.0748e-04\n",
      "Epoch 49/50\n",
      "38/38 [==============================] - 2s 46ms/step - loss: 3.5395e-04\n",
      "Epoch 50/50\n",
      "38/38 [==============================] - 2s 59ms/step - loss: 3.9230e-04\n"
     ]
    },
    {
     "data": {
      "text/plain": [
       "<keras.callbacks.History at 0x1b535cbead0>"
      ]
     },
     "execution_count": 14,
     "metadata": {},
     "output_type": "execute_result"
    }
   ],
   "source": [
    "model_lstm.fit(X_train, y_train, epochs=50, batch_size=32)"
   ]
  },
  {
   "cell_type": "code",
   "execution_count": 15,
   "id": "bd02d772",
   "metadata": {},
   "outputs": [],
   "source": [
    "dataset_total = dataset.loc[:,\"High\"]\n",
    "inputs = dataset_total[len(dataset_total) - len(test_set) - n_steps :].values\n",
    "inputs = inputs.reshape(-1, 1)\n",
    "#scaling\n",
    "inputs = sc.transform(inputs)\n",
    "# Split into samples\n",
    "X_test, y_test = split_sequence(inputs, n_steps)\n",
    "# reshape\n",
    "X_test = X_test.reshape(X_test.shape[0], X_test.shape[1],features)"
   ]
  },
  {
   "cell_type": "code",
   "execution_count": 16,
   "id": "d4dfe1dd",
   "metadata": {},
   "outputs": [],
   "source": [
    "#prediction\n",
    "predicted_stock_price = model_lstm.predict(X_test)\n",
    "#inverse transform the values\n",
    "predicted_stock_price = sc.inverse_transform(predicted_stock_price)"
   ]
  },
  {
   "cell_type": "code",
   "execution_count": 17,
   "id": "05928ed6",
   "metadata": {},
   "outputs": [],
   "source": [
    "def plot_predictions(test, predicted):\n",
    "    plt.plot(test, color=\"gray\", label=\"Real\")\n",
    "    plt.plot(predicted, color=\"red\", label=\"Predicted\")\n",
    "    plt.title(\"MasterCard Stock Price Prediction\")\n",
    "    plt.xlabel(\"Time\")\n",
    "    plt.ylabel(\"MasterCard Stock Price\")\n",
    "    plt.legend()\n",
    "    plt.show()"
   ]
  },
  {
   "cell_type": "code",
   "execution_count": 18,
   "id": "f43f4740",
   "metadata": {},
   "outputs": [],
   "source": [
    "def return_rmse(test, predicted):\n",
    "    rmse = np.sqrt(mean_squared_error(test, predicted))\n",
    "    print(\"The root mean squared error is {:.2f}.\".format(rmse))"
   ]
  },
  {
   "cell_type": "code",
   "execution_count": 19,
   "id": "79c89126",
   "metadata": {},
   "outputs": [
    {
     "data": {
      "image/png": "[encoded data removed]",
      "text/plain": [
       "<Figure size 432x288 with 1 Axes>"
      ]
     },
     "metadata": {
      "needs_background": "light"
     },
     "output_type": "display_data"
    }
   ],
   "source": [
    "plot_predictions(test_set,predicted_stock_price)"
   ]
  },
  {
   "cell_type": "code",
   "execution_count": 20,
   "id": "b0f0ba5f",
   "metadata": {},
   "outputs": [
    {
     "name": "stdout",
     "output_type": "stream",
     "text": [
      "The root mean squared error is 6.33.\n"
     ]
    }
   ],
   "source": [
    "return_rmse(test_set,predicted_stock_price)"
   ]
  }
 ],
 "metadata": {
  "kernelspec": {
   "display_name": "Python 3 (ipykernel)",
   "language": "python",
   "name": "python3"
  },
  "language_info": {
   "codemirror_mode": {
    "name": "ipython",
    "version": 3
   },
   "file_extension": ".py",
   "mimetype": "text/x-python",
   "name": "python",
   "nbconvert_exporter": "python",
   "pygments_lexer": "ipython3",
   "version": "3.10.2"
  }
 },
 "nbformat": 4,
 "nbformat_minor": 5
}
